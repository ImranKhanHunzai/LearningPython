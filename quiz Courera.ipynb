{
 "cells": [
  {
   "cell_type": "markdown",
   "id": "e61e271f-5d0d-4b73-aefb-5727c9778f8c",
   "metadata": {},
   "source": [
    "1.\n",
    "Question 1\n",
    "Fill in the blank using a for loop. With the given list of \"filenames\", this code should rename all files with the extension .hpp to the extension .h. The code  should then generate a new list called \"new_filenames\" that contains the file names with the new extension.\n",
    "You are given a list of filenames like this:\n",
    "filenames = [\"program.c\", \"stdio.hpp\", \"sample.hpp\", \"a.out\", \"math.hpp\", \"hpp.out\"]\n",
    "Output the list with all of the “.hpp” files renamed to “.h”. Leave the other filenames alone. For this question, you must use a for loop to create the list. "
   ]
  },
  {
   "cell_type": "code",
   "execution_count": null,
   "id": "da8aa235-b1a9-4c57-85d5-fcb1bba91c3f",
   "metadata": {},
   "outputs": [],
   "source": [
    "filenames = [\"program.c\", \"stdio.hpp\", \"sample.hpp\", \"a.out\", \"math.hpp\", \"hpp.out\"]\n",
    "# Generate new_filenames as a list containing the new filenames\n",
    "# using as many lines of code as your chosen method requires.\n",
    "new_filenames = []\n",
    "for filename in filenames:\n",
    "    if filename.endswith(\"hpp\"):\n",
    "        new_filenames.append(filename.replace(\"hpp\",\"h\"))\n",
    "        #index = filename.index('hpp')\n",
    "        #newfilename = filename[0:index] + 'h' \n",
    "        #new_filenames.append(newfilename)\n",
    "    else:\n",
    "        new_filenames.append(filename)\n",
    "print(new_filenames)\n",
    "# Should be [\"program.c\", \"stdio.h\", \"sample.h\", \"a.out\", \"math.h\", \"hpp.out\"]"
   ]
  },
  {
   "cell_type": "markdown",
   "id": "3675c898-7eed-4508-a7b3-6c83a392d624",
   "metadata": {},
   "source": [
    "2.\n",
    "Question 2\n",
    "Fill in the blank using a list comprehension. With the given list of \"filenames\", this code should rename all files with the extension .hpp to the extension .h. The code function should then generate a new list called \"new_filenames\" that contains the filenames with the new extension.\n",
    "\n",
    "You are given a list of filenames like this:\n",
    "\n",
    "filenames = [\"program.c\", \"stdio.hpp\", \"sample.hpp\", \"a.out\", \"math.hpp\", \"hpp.out\"]\n",
    "\n",
    "Output the list with all of the “.hpp” files renamed to “.h”. Leave the other filenames alone. For this question, you must use list comprehension to create the list. \n"
   ]
  },
  {
   "cell_type": "code",
   "execution_count": null,
   "id": "f968cb83-db7d-4fab-baf0-e2f10b003a0a",
   "metadata": {},
   "outputs": [],
   "source": [
    "filenames = [\"program.c\", \"stdio.hpp\", \"sample.hpp\", \"a.out\", \"math.hpp\", \"hpp.out\"]\n",
    "# Generate new_filenames as a list containing the new filenames\n",
    "# using as many lines of code as your chosen method requires.\n",
    "new_filenames= [file.replace(\"hpp\", \"h\") if file.endswith(\"hpp\") else file for file in filenames]  # Start your code here\n",
    "print(new_filenames) \n",
    "# Should print [\"program.c\", \"stdio.h\", \"sample.h\", \"a.out\", \"math.h\", \"hpp.out\"]"
   ]
  },
  {
   "cell_type": "code",
   "execution_count": null,
   "id": "21303726-31f7-4e3a-8ac0-00b5a8bf3abd",
   "metadata": {},
   "outputs": [],
   "source": [
    "Question 3\n",
    "Create a function that turns text into pig latin. Pig latin is a simple text transformation that modifies each word by:\n",
    "\n",
    "moving the first character to the end of each word;\n",
    "\n",
    "then appending the letters \"ay\" to the end of each word.\n",
    "\n",
    "For example, python ends up as ythonpay."
   ]
  },
  {
   "cell_type": "code",
   "execution_count": null,
   "id": "f2f46945-9cda-42f7-a9cb-a6463c14e78e",
   "metadata": {},
   "outputs": [],
   "source": [
    "def pig_latin(text):\n",
    "  say = \"\"  \n",
    "  # Separate the text into words\n",
    "  words = text.split()\n",
    "  for word in words:\n",
    "    # Create the pig latin word and add it to the list\n",
    "    say += word[1:] + word[0:1] + \"ay\" + \" \"    \n",
    "  return say\n",
    "    \n",
    "print(pig_latin(\"hello how are you\")) # Should be \"ellohay owhay reaay ouyay\"\n",
    "print(pig_latin(\"programming in python is fun\")) # Should be \"rogrammingpay niay ythonpay siay unfay\""
   ]
  },
  {
   "cell_type": "raw",
   "id": "181c2463-9208-440f-9631-86b00552557a",
   "metadata": {},
   "source": [
    "6.\n",
    "Question 6\n",
    "Fill in the blanks to complete the “biography_list” function. The “biography_list” function reads in a list of tuples “people”, which contains the name, age, and profession of each “person”. Then, prints the sentence \"__ is _ years old and works as __.\". For example, “biography_list([(\"Ira\", 30, \"a Chef\")])” should print: “Ira is 30 years old and works as a Chef.” "
   ]
  },
  {
   "cell_type": "code",
   "execution_count": null,
   "id": "a7200a36-9384-4a6b-84bd-8675a7765838",
   "metadata": {},
   "outputs": [],
   "source": [
    "def biography_list(people):\n",
    "    # Iterate over each \"person\" in the given \"people\" list of tuples. \n",
    "    for person in people: \n",
    "        # Separate the 3 items in each tuple into 3 variables:\n",
    "        # \"name\", \"age\", and \"profession\"   \n",
    "        name, age, profession = person  \n",
    "        # Format the required sentence and place the 3 variables \n",
    "        # in the correct placeholders using the .format() method.\n",
    "        print(\"{} is {} years old and works as {}\".format(name, age, profession))\n",
    "\n",
    "# Call to the function:\n",
    "biography_list([(\"Ira\", 30, \"a Chef\"), (\"Raj\", 35, \"a Lawyer\"), (\"Maria\", 25, \"an Engineer\")])\n",
    "# Click Run to submit code\n",
    "# Output should match:\n",
    "# Ira is 30 years old and works as a Chef\n",
    "# Raj is 35 years old and works as a Lawyer\n",
    "# Maria is 25 years old and works as an Engineer"
   ]
  }
 ],
 "metadata": {
  "kernelspec": {
   "display_name": "Python 3 (ipykernel)",
   "language": "python",
   "name": "python3"
  },
  "language_info": {
   "codemirror_mode": {
    "name": "ipython",
    "version": 3
   },
   "file_extension": ".py",
   "mimetype": "text/x-python",
   "name": "python",
   "nbconvert_exporter": "python",
   "pygments_lexer": "ipython3",
   "version": "3.12.4"
  }
 },
 "nbformat": 4,
 "nbformat_minor": 5
}
